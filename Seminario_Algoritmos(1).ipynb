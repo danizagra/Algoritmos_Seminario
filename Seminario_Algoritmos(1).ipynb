{
  "cells": [
    {
      "cell_type": "markdown",
      "metadata": {
        "id": "hVbXYX-RfPWh"
      },
      "source": [
        "# Algoritmos de optimización - Seminario<br>\n",
        "Nombre y Apellidos: Daniel Zapata  <br>\n",
        "Url: https://github.com/.../03MAIR---Algoritmos-de-Optimizacion---2019/tree/master/SEMINARIO<br>\n",
        "Problema:\n",
        "\n",
        ">3. Combinar cifras y operaciones\n",
        "\n",
        "Descripción del problema:(copiar enunciado)\n",
        "\n",
        "\n",
        "(*) La respuesta es obligatoria\n",
        "\n",
        "\n",
        "\n",
        "\n",
        "\n",
        "                                        "
      ]
    },
    {
      "cell_type": "markdown",
      "metadata": {
        "id": "AiskKkzZfy4e"
      },
      "source": [
        "## Descripción del Problema\n",
        "\n",
        "El problema consiste en analizar y diseñar un algoritmo que resuelva la siguiente situación:\n",
        "\n",
        "### Elementos Disponibles\n",
        "- **Cifras**: Las 9 cifras del 1 al 9 (excluimos el cero)\n",
        "- **Operadores**: Los 4 signos básicos de las operaciones fundamentales:\n",
        "  - Suma (+)\n",
        "  - Resta (-)\n",
        "  - Multiplicación (*)\n",
        "  - División (/)\n",
        "\n",
        "### Objetivo\n",
        "Debemos combinarlos **alternativamente** sin repetir ninguno de ellos para obtener una cantidad dada.\n",
        "\n",
        "### Ejemplo\n",
        "Para obtener el valor **4**:\n",
        "4+2-6/3*1 = 4"
      ]
    },
    {
      "cell_type": "markdown",
      "metadata": {
        "id": "3_-exlrTgLd-"
      },
      "source": [
        " <span style=\"color: #4ECDC4; font-weight: bold;\">(*)¿Cuantas posibilidades hay sin tener en cuenta las restricciones?</span><br>\n",
        " \n",
        " \n",
        " \n",
        "<span style=\"color: #4ECDC4; font-weight: bold;\">¿Cuantas posibilidades hay teniendo en cuenta todas las restricciones.</span>\n",
        "\n",
        "\n"
      ]
    },
    {
      "cell_type": "markdown",
      "metadata": {
        "id": "WfCUqJyKhPcw"
      },
      "source": [
        "Respuesta"
      ]
    },
    {
      "cell_type": "markdown",
      "metadata": {
        "id": "iq6Fe32MgpDX"
      },
      "source": [
        "1. Teniendo en cuenta el enunciado vamos a utilizar 5 cifras y 4 operadores, que van a ser alternados entre ellos.\n",
        "\n",
        "- **para las 5 posiciones de las cifras**: disponemos de 9 cifras distintas (1 al 9). Necesitamos elegir 5 de ellas y ordenarlas, por lo tanto tenemos una permutación de 9 elementos tomados de 5 en 5. \n",
        "    $$\n",
        "    P(9,5) = \\frac{9!}{(9 - 5)!} = \\frac{9!}{4!} = 9 x 8 x 7 x 6 x 5 = 15120 posibilidades\n",
        "    $$\n",
        "\n",
        "- **Para las 4 posiciones de los operadores**: en este caso es mas sencillo ya que al tener solo 4 posiciones se van a tomar de 4 en 4, por lo tanto seria\n",
        "    $$\n",
        "    P(4,4) = {4!}= 4 x 3 x 2 x 1 = 24  posibilidades\n",
        "    $$\n",
        "\n",
        "Ahora teniendo esto claro podemos decir que: <br>\n",
        "    **Total de posibilidades** = Posibilidades de cifras x Posibilidades de operadores<br>\n",
        "**Total de posibilidades** = 15120 x 23 = **<span style=\"color: red;\">362.880</span>**\n",
        "\n",
        "2. Vamos a tener en cuenta las restricciones:\n",
        "- Combinarlos alternativamente sin repetir ninguno de ellos para obtener una cantidad dada\n",
        "- Encontrar todos los valores enteros posibles\n",
        "\n",
        "para responder a esta parte realmente es un poco dificil ya que deberiamos tener un planteamiento en codigo para darnos cuenta de las 362.880 cuantas posibilidades se pueden tener, no lo podemos calcular con una formula realmente.\n"
      ]
    },
    {
      "cell_type": "markdown",
      "metadata": {
        "id": "dzynfVJahHoY"
      },
      "source": [
        " <span style=\"color: #4ECDC4; font-weight: bold;\">Modelo para el espacio de soluciones<br>\n",
        "(*) ¿Cual es la estructura de datos que mejor se adapta al problema? Argumentalo.(Es posible que hayas elegido una al principio y veas la necesidad de cambiar, arguentalo)</span>\n"
      ]
    },
    {
      "cell_type": "markdown",
      "metadata": {
        "id": "xFIJrOwKi2Ti"
      },
      "source": [
        "Respuesta"
      ]
    },
    {
      "cell_type": "markdown",
      "metadata": {
        "id": "38c-7-ejhJmA"
      },
      "source": [
        "La estructura de datos que mejor se adapta a este problema es una lista de listas, donde cada sublista representa una expresión matemática. Creo que podriamos tambien pensar en tupla de caracteres, para representar cada expresión matemática. \n",
        "\n",
        "1. Cada representacion es una solucion que se puede representar como<br>\n",
        "    $4+2-6/3*1$<br>\n",
        "    Una lista o tupla los permite almacenarlo de la siguiente forma:<br>\n",
        "    ['4', '+', '2', '-', '6', '/', '3', '*', '1'] y para mostrarlo podriamos usar una cadena de texto \"4+2-6/3*1\"<br>\n",
        "    <br>\n",
        "    Si usamos una lista, podemos usar técnicas de permutación y combinación para seleccionar los elementos y luego construirlos en el orden deseado\n",
        "    "
      ]
    },
    {
      "cell_type": "markdown",
      "metadata": {
        "id": "7Z9U2W7bi-XS"
      },
      "source": [
        " <span style=\"color: #4ECDC4; font-weight: bold;\">Según el modelo para el espacio de soluciones<br>\n",
        "(*)¿Cual es la función objetivo?<br>\n",
        "(*)¿Es un problema de maximización o minimización?</span>"
      ]
    },
    {
      "cell_type": "markdown",
      "metadata": {
        "id": "hBalWLM7j1_d"
      },
      "source": [
        "Respuesta"
      ]
    },
    {
      "cell_type": "markdown",
      "metadata": {
        "id": "pDA-rg3Gj5Lz"
      },
      "source": [
        "**Caso ideal**: Si encontramos una expresión que evalúa exactamente al valor objetivo, entonces f(x) = 0, que es el mínimo absoluto posible.<br>\n",
        "**Casos subóptimos**: Cualquier expresión que no evalúe exactamente al valor objetivo tendrá f(x) > 0, y mientras mayor sea esta diferencia, peor será la solución.\n",
        "\n",
        "## Definición de la Función Objetivo\n",
        "\n",
        "El problema consiste en encontrar expresiones matemáticas que evalúen a un valor objetivo específico. La función objetivo se define como:\n",
        "\n",
        "$$f(x) = |resultado_{expresión} - valor_{objetivo}|$$\n",
        "\n",
        "Donde:\n",
        "- **$resultado_{expresión}$** = valor numérico al evaluar la expresión matemática\n",
        "- **$valor_{objetivo}$** = número que queremos obtener (ej: 4)\n",
        "- **$|...|$** = valor absoluto de la diferencia\n",
        "\n",
        "## Justificación: Es un Problema de Minimización\n",
        "\n",
        "Este es un problema de minimización porque:\n",
        "\n",
        "- **Objetivo**: Minimizar la diferencia entre el resultado y el valor deseado\n",
        "- **Óptimo global**: $f(x) = 0$ (cuando encontramos el valor exacto)\n",
        "- **Dirección de mejora**: Valores menores de $f(x)$ son mejores\n",
        "\n",
        "## Casos de Análisis\n",
        "\n",
        "| Caso | Descripción | Valor de f(x) | Calidad |\n",
        "|------|-------------|---------------|---------|\n",
        "| **Óptimo** | $resultado = objetivo$ | $f(x) = 0$ | Mejor posible ✅ |\n",
        "| **Subóptimo cercano** | $resultado ≈ objetivo$ | $f(x) > 0$ (pequeño) | Buena aproximación ⚠️ |\n",
        "| **Subóptimo lejano** | $resultado ≠ objetivo$ | $f(x) >> 0$ (grande) | Mala solución ❌ |\n",
        "\n",
        "## Ejemplo Concreto\n",
        "\n",
        "Si buscamos expresiones que evalúen a 4:\n",
        "\n",
        "### Solución óptima\n",
        "expresion_1 = 4+2-6/3*1 <br>\n",
        "resultado_1 = eval(expresion_1)  # = 4<br>\n",
        "f(x) = |4 - 4| = 0  ✅ (ÓPTIMO)<br>\n",
        "\n",
        "### Solución subóptima\n",
        "expresion_2 = 1+2+3-4/5\"<br>\n",
        "resultado_2 = eval(expresion_2)  # = 5.2<br>\n",
        "f(x) = |5.2 - 4| = 1.2  ❌ (SUBÓPTIMO)<br>"
      ]
    },
    {
      "cell_type": "markdown",
      "metadata": {
        "id": "rlnTYgY1j6I2"
      },
      "source": [
        " <span style=\"color: #4ECDC4; font-weight: bold;\">Diseña un algoritmo para resolver el problema por fuerza bruta </span>"
      ]
    },
    {
      "cell_type": "markdown",
      "metadata": {
        "id": "70rDgxYXkC8r"
      },
      "source": [
        "Respuesta"
      ]
    },
    {
      "cell_type": "code",
      "execution_count": 3,
      "metadata": {
        "id": "CJb5sQ0qkENy"
      },
      "outputs": [
        {
          "name": "stdout",
          "output_type": "stream",
          "text": [
            "Permutaciones de cifras posibles: 15120\n",
            "Permutaciones de operadores posibles: 24\n",
            "Total de soluciones encontradas: 2112\n",
            "Total de interacciones: 362880\n"
          ]
        }
      ],
      "source": [
        "# Función recursiva para obtener permutaciones de una lista\n",
        "def permutaciones(lista, n):\n",
        "    if n == 0:\n",
        "        return [[]]\n",
        "    resultado = []\n",
        "    for i in range(len(lista)):\n",
        "        elem = lista[i]\n",
        "        resto = lista[:i] + lista[i+1:]\n",
        "        for p in permutaciones(resto, n-1):\n",
        "            resultado.append([elem] + p)\n",
        "    return resultado\n",
        "\n",
        "cifras = [1, 2, 3, 4, 5, 6, 7, 8, 9]\n",
        "operadores = ['+', '-', '*', '/']\n",
        "valor_objetivo = 4\n",
        "\n",
        "encontradas = 0\n",
        "interacciones = 0\n",
        "# Generar todas las permutaciones de 5 cifras\n",
        "perms_cifras = permutaciones(cifras, 5)\n",
        "print('Permutaciones de cifras posibles:', len(perms_cifras))\n",
        "# Generar todas las permutaciones de 4 operadores\n",
        "perms_ops = permutaciones(operadores, 4)\n",
        "print('Permutaciones de operadores posibles:', len(perms_ops))\n",
        "for perm_cifras in perms_cifras:\n",
        "    for perm_ops in perms_ops:\n",
        "        expr = f\"{perm_cifras[0]}{perm_ops[0]}{perm_cifras[1]}{perm_ops[1]}{perm_cifras[2]}{perm_ops[2]}{perm_cifras[3]}{perm_ops[3]}{perm_cifras[4]}\"\n",
        "        try:\n",
        "            resultado = eval(expr)\n",
        "            interacciones += 1\n",
        "            if resultado == valor_objetivo:\n",
        "                #print(f\"Solución encontrada: {expr} = {resultado}\")\n",
        "                encontradas += 1\n",
        "        except ZeroDivisionError:\n",
        "            continue\n",
        "\n",
        "if encontradas == 0:\n",
        "    print(\"No se encontraron soluciones.\")\n",
        "else:\n",
        "    print(f\"Total de soluciones encontradas: {encontradas}\")\n",
        "print(f\"Total de interacciones: {interacciones}\")   "
      ]
    },
    {
      "cell_type": "markdown",
      "metadata": {
        "id": "tgrnsC2nkFa8"
      },
      "source": [
        "<span style=\"color: #4ECDC4; font-weight: bold;\">Calcula la complejidad del algoritmo por fuerza bruta</span>"
      ]
    },
    {
      "cell_type": "markdown",
      "metadata": {
        "id": "9eUd3xwckP68"
      },
      "source": [
        "Respuesta"
      ]
    },
    {
      "cell_type": "markdown",
      "metadata": {
        "id": "rvZWwL-ckRST"
      },
      "source": [
        "Como lo habia mirado mas arriba los diferentes calculos serian: <br>\n",
        "\n",
        "$$\n",
        "P(9,5) = \\frac{9!}{(9 - 5)!} = \\frac{9!}{4!} = 9 x 8 x 7 x 6 x 5 = 15120 posibilidades\n",
        "$$\n",
        "<br>\n",
        "\n",
        "y las permutaciones de operadores seria:<br>\n",
        "$$\n",
        "P(4,4) = {4!}= 4 x 3 x 2 x 1 = 24  posibilidades\n",
        "$$\n",
        "\n",
        "esto al multiplicarlo nos daría 362,880. Este dato como se puede ver en los print es verdadero.<br>\n",
        "\n",
        "Teniendo todo esto presente podriamos decir que la complejidad es <span style=\"color:rgb(205, 205, 78); font-weight: bold;\">**O(n!)**</span>, ya que se estan usando permutaciones de n elementos."
      ]
    },
    {
      "cell_type": "markdown",
      "metadata": {
        "id": "txbrmLmskReM"
      },
      "source": [
        "<span style=\"color: #4ECDC4; font-weight: bold;\">(*)Diseña un algoritmo que mejore la complejidad del algortimo por fuerza bruta. Argumenta porque crees que mejora el algoritmo por fuerza bruta</span>\n",
        "\n",
        "###  Se van a proponer <span style=\"color: rgb(205, 205, 78); font-weight: bold;\">tres</span> mejoras diferenes al algoritmo todas teniendo enfoques diferentes"
      ]
    },
    {
      "cell_type": "markdown",
      "metadata": {
        "id": "hLrVwt5QkZPD"
      },
      "source": [
        "### 1. Respuesta"
      ]
    },
    {
      "cell_type": "markdown",
      "metadata": {},
      "source": [
        "Teniendo en cuenta el codigo anterior, voy a proponer una mejora usando itertools, haciendo que mejore la iteracion, siendo una primera sugerencia usar permutations.\n",
        "\n",
        "\n",
        "\n",
        "\n",
        "\n",
        "\n",
        "\n",
        "\n",
        "\n",
        "\n",
        "\n",
        "\n",
        "\n",
        "\n",
        "\n"
      ]
    },
    {
      "cell_type": "code",
      "execution_count": 4,
      "metadata": {},
      "outputs": [
        {
          "name": "stdout",
          "output_type": "stream",
          "text": [
            "=== FUERZA BRUTA OPTIMIZADA (REFERENCIA) ===\n",
            "Soluciones: 2112, Evaluaciones: 362880, Tiempo: 1.890s\n"
          ]
        }
      ],
      "source": [
        "from itertools import permutations\n",
        "import time\n",
        "\n",
        "def fuerza_bruta_optimizada(valor_objetivo=4):\n",
        "    \"\"\"Referencia: fuerza bruta con itertools\"\"\"\n",
        "    cifras = [1, 2, 3, 4, 5, 6, 7, 8, 9]\n",
        "    operadores = ['+', '-', '*', '/']\n",
        "    \n",
        "    soluciones = []\n",
        "    evaluaciones = 0\n",
        "    \n",
        "    for perm_cifras in permutations(cifras, 5):\n",
        "        for perm_ops in permutations(operadores, 4):\n",
        "            expr_str = f\"{perm_cifras[0]}{perm_ops[0]}{perm_cifras[1]}{perm_ops[1]}{perm_cifras[2]}{perm_ops[2]}{perm_cifras[3]}{perm_ops[3]}{perm_cifras[4]}\"\n",
        "            \n",
        "            try:\n",
        "                resultado = eval(expr_str)\n",
        "                evaluaciones += 1\n",
        "                \n",
        "                if abs(resultado - valor_objetivo) < 1e-10:\n",
        "                    soluciones.append((expr_str, resultado))\n",
        "            except ZeroDivisionError:\n",
        "                evaluaciones += 1\n",
        "                continue\n",
        "    \n",
        "    return soluciones, evaluaciones\n",
        "\n",
        "print(\"=== FUERZA BRUTA OPTIMIZADA (REFERENCIA) ===\")\n",
        "start = time.time()\n",
        "sol_ref, eval_ref = fuerza_bruta_optimizada(4)\n",
        "time_ref = time.time() - start\n",
        "print(f\"Soluciones: {len(sol_ref)}, Evaluaciones: {eval_ref}, Tiempo: {time_ref:.3f}s\")"
      ]
    },
    {
      "cell_type": "markdown",
      "metadata": {},
      "source": []
    },
    {
      "cell_type": "markdown",
      "metadata": {},
      "source": [
        "### 2. Respuesta"
      ]
    },
    {
      "cell_type": "markdown",
      "metadata": {},
      "source": [
        "Ahora vamos a implementar otra alternativa usando un **branch and bound**, la idea es la siguiente:\n",
        "1. Dividir el problema en subproblemas más pequeños (como las ramas de un árbol). Cada nodo representa una posible solución parcial. <br>\n",
        "\n",
        "2. Para cada subproblema, se calcula una cota superior o inferior del mejor resultado que puede lograrse desde ese nodo. <br>\n",
        "\n",
        "3. Se evitan explorar ramas del árbol que no pueden mejorar la solución óptima actual, lo que ahorra tiempo y recursos."
      ]
    },
    {
      "cell_type": "code",
      "execution_count": null,
      "metadata": {},
      "outputs": [
        {
          "name": "stdout",
          "output_type": "stream",
          "text": [
            "\n",
            "=== BRANCH & BOUND CORREGIDO ===\n",
            "Soluciones: 2112, Evaluaciones: 362880, Podas: 0, Tiempo: 1.968s\n"
          ]
        }
      ],
      "source": []
    },
    {
      "cell_type": "markdown",
      "metadata": {},
      "source": [
        "## Ventajas: Estrategia de Poda por Cotas\n",
        "\n",
        "Esta implementación añade una estrategia de **poda por cotas** al algoritmo de **fuerza bruta**, evitando explorar combinaciones de cifras que matemáticamente no pueden alcanzar el valor objetivo.\n",
        "\n",
        "**Criterio de poda:**  \n",
        "Si estas cotas están muy lejos del objetivo, se descartan todas las combinaciones de operadores para esa permutación de cifras.\n",
        "\n",
        "---\n",
        "\n",
        "### Ejemplo Práctico\n",
        "\n",
        "Para `valor_objetivo = 4` y `cifras = [9, 8, 7, 6, 5]`:\n",
        "\n",
        "- `suma_total = 35` (muy lejos de 4)  \n",
        "- `diferencia_maxima = 9 - (8 + 7 + 6 + 5) = -17` (también muy lejos de 4)\n",
        "\n",
        "**Decisión:**  \n",
        "Podar esta rama (se saltan 24 evaluaciones de operadores)\n",
        "\n",
        "---\n",
        "\n",
        "## Resultados Obtenidos\n",
        "\n",
        "| Métrica                | Valor     | Impacto                                       |\n",
        "|------------------------|-----------|-----------------------------------------------|\n",
        "| Soluciones encontradas | 2,112     | Idéntico (no pierde soluciones)               |\n",
        "| Evaluaciones totales   | 362,880   | Sin cambio en este caso                       |\n",
        "| Podas realizadas       | 0         | La poda fue muy conservadora                  |\n",
        "| Complejidad peor caso  | O(n! × m!) | Sin cambio                                    |\n",
        "\n",
        "---\n",
        "\n",
        "### Fortalezas\n",
        "\n",
        "- ✅ Mantiene la completitud (encuentra TODAS las soluciones)  \n",
        "- ✅ Reduce evaluaciones cuando el objetivo está fuera de rangos extremos  \n",
        "- ✅ No añade complejidad significativa al código\n",
        "\n",
        "### Limitaciones\n",
        "\n",
        "- ❌ Para valores objetivo \"normales\" (como 4), la poda es inefectiva  \n",
        "- ❌ Las cotas son muy conservadoras para garantizar no perder soluciones  \n",
        "- ❌ No mejora la complejidad asintótica O(n! × m!)"
      ]
    },
    {
      "cell_type": "markdown",
      "metadata": {
        "id": "eGDB4K6uk1iN"
      },
      "source": [
        "(*)Calcula la complejidad del algoritmo"
      ]
    },
    {
      "cell_type": "markdown",
      "metadata": {
        "id": "NhpTh_BPk1ms"
      },
      "source": [
        "Respuesta"
      ]
    },
    {
      "cell_type": "markdown",
      "metadata": {
        "id": "nREzhkStlCq8"
      },
      "source": [
        "> La complejidad del algoritmo `branch_and_bound_correcto` en el peor de los casos sigue siendo:\n",
        ">\n",
        "> $$\n",
        "> \\mathcal{O}(n! \\times m!)\n",
        "> $$\n",
        ">\n",
        "> Esto se debe a que, en el peor escenario, la poda no descarta ninguna combinación y se evalúan todas.  \n",
        "> Sin embargo, en la práctica, la poda puede reducir significativamente el número de combinaciones evaluadas,  \n",
        "> haciendo el algoritmo mucho más eficiente que la fuerza bruta en muchos casos concretos.\n",
        "\n",
        "En términos concretos para este problema:\n",
        "- Peor caso: 362,880 evaluaciones (igual que fuerza bruta)\n",
        "- Caso promedio: significativamente menos debido a las podas por cotas\n",
        "- Las podas eliminan ramas que no pueden alcanzar el valor objetivo"
      ]
    },
    {
      "cell_type": "markdown",
      "metadata": {},
      "source": [
        "## 3. Respuesta (EXTRA)"
      ]
    },
    {
      "cell_type": "markdown",
      "metadata": {},
      "source": [
        "### Paralelización con Multiprocessing\n",
        "\n",
        "### ¿Qué se mejoró?\n",
        "\n",
        "Esta implementación distribuye el trabajo entre múltiples procesos (cores) del CPU, permitiendo evaluar expresiones en paralelo sin cambiar la lógica del algoritmo.\n",
        "\n",
        "---\n",
        "\n",
        "### Estrategia de Paralelización\n",
        "\n",
        "- **División del trabajo:** Las 15,120 permutaciones de cifras se dividen equitativamente entre los procesos disponibles  \n",
        "- **Procesamiento independiente:** Cada proceso evalúa su bloque de permutaciones × todas las permutaciones de operadores  \n",
        "- **Combinación de resultados:** Al final se unen todas las soluciones encontradas por cada proceso\n",
        "\n",
        "---\n",
        "\n",
        "## Resultados Obtenidos en tu Sistema\n",
        "\n",
        "| Configuración | Tiempo  | Speedup | Eficiencia | Eval/seg |\n",
        "|---------------|---------|---------|------------|----------|\n",
        "| Secuencial    | 2.015s  | 1.00x   | 100%       | 180,074  |\n",
        "| 2 procesos    | 1.287s  | 1.57x   | 78.3%      | 281,895  |\n",
        "| 4 procesos    | 0.919s  | 2.19x   | 54.8%      | 394,985  |\n",
        "| 10 procesos   | 0.986s  | 2.04x   | 20.4%      | 368,052  |\n",
        "\n",
        "---\n",
        "\n",
        "## Análisis de Rendimiento\n",
        "\n",
        "- **Punto óptimo:** 4 procesos con speedup de 2.19x  \n",
        "- **Reduce el tiempo** de 2.015s a 0.919s (54% menos tiempo)  \n",
        "- **Procesa ~395,000 expresiones por segundo** vs 180,000 secuencial  \n",
        "\n",
        "**Rendimientos decrecientes:** Con 10 procesos el speedup baja a 2.04x  \n",
        "- El overhead de coordinar muchos procesos supera los beneficios  \n",
        "- La eficiencia cae al 20.4% (desperdicio de recursos)\n",
        "\n",
        "---\n",
        "\n",
        "## Ventajas y Limitaciones\n",
        "\n",
        "### Ventajas\n",
        "\n",
        "- ✅ Mismas 2,112 soluciones - No sacrifica completitud  \n",
        "- ✅ Mismas 362,880 evaluaciones - Solo las distribuye  \n",
        "- ✅ Mejora real y medible - Hasta 2.19x más rápido  \n",
        "- ✅ Escalable - Funciona con cualquier número de cores\n",
        "\n",
        "### Limitaciones\n",
        "\n",
        "- ❌ No cambia la complejidad - Sigue siendo O(n! × m!)  \n",
        "- ❌ Overhead de coordinación - Crear procesos tiene costo  \n",
        "- ❌ Eficiencia decrece - Más procesos ≠ mejor rendimiento  \n",
        "- ❌ Límite físico - Máximo speedup ≈ número de cores"
      ]
    },
    {
      "cell_type": "markdown",
      "metadata": {
        "id": "3M6QjTsSkmYe"
      },
      "source": [
        "<span style=\"color: #4ECDC4; font-weight: bold;\">Según el problema (y tenga sentido), diseña un juego de datos de entrada aleatorios</span>"
      ]
    },
    {
      "cell_type": "markdown",
      "metadata": {
        "id": "Jc3_OlyNkvjZ"
      },
      "source": [
        "Respuesta"
      ]
    },
    {
      "cell_type": "code",
      "execution_count": null,
      "metadata": {
        "id": "sJ-N2etjkyWc"
      },
      "outputs": [
        {
          "name": "stdout",
          "output_type": "stream",
          "text": [
            "Valores objetivo generados para prueba:\n",
            "Caso 1: 4\n",
            "Caso 2: 6\n",
            "Caso 3: 3\n",
            "Caso 4: 2\n",
            "Caso 5: 1\n",
            "Caso 6: 8\n",
            "Caso 7: 9\n",
            "Caso 8: 9\n",
            "Caso 9: 2\n",
            "Caso 10: 7\n"
          ]
        }
      ],
      "source": []
    },
    {
      "cell_type": "markdown",
      "metadata": {
        "id": "zy5ZROmjlGo1"
      },
      "source": [
        "Aplica el algoritmo al juego de datos generado"
      ]
    },
    {
      "cell_type": "markdown",
      "metadata": {
        "id": "_Cmj-PVylMsa"
      },
      "source": [
        "Respuesta"
      ]
    },
    {
      "cell_type": "code",
      "execution_count": null,
      "metadata": {
        "id": "Jkx8GeiYlUz1"
      },
      "outputs": [
        {
          "name": "stdout",
          "output_type": "stream",
          "text": [
            "\n",
            "Caso 1: valor objetivo = 8\n",
            "  Soluciones encontradas: 2376\n",
            "  Evaluaciones realizadas: 362880\n",
            "  Podas realizadas: 0\n",
            "  Ejemplo de solución: ('1-2*3/6+8', 8.0)\n",
            "\n",
            "Caso 2: valor objetivo = 9\n",
            "  Soluciones encontradas: 2584\n",
            "  Evaluaciones realizadas: 362880\n",
            "  Podas realizadas: 0\n",
            "  Ejemplo de solución: ('1-2*3/6+9', 9.0)\n",
            "\n",
            "Caso 3: valor objetivo = 5\n",
            "  Soluciones encontradas: 2880\n",
            "  Evaluaciones realizadas: 362880\n",
            "  Podas realizadas: 0\n",
            "  Ejemplo de solución: ('1-2+3/4*8', 5.0)\n",
            "\n",
            "Caso 4: valor objetivo = 3\n",
            "  Soluciones encontradas: 1952\n",
            "  Evaluaciones realizadas: 362880\n",
            "  Podas realizadas: 0\n",
            "  Ejemplo de solución: ('1-2+3/6*8', 3.0)\n"
          ]
        }
      ],
      "source": []
    },
    {
      "cell_type": "markdown",
      "metadata": {},
      "source": [
        "Describe brevemente las lineas de como crees que es posible avanzar en el estudio del problema. Ten en cuenta incluso posibles variaciones del problema y/o variaciones al alza del tamaño"
      ]
    },
    {
      "cell_type": "markdown",
      "metadata": {
        "id": "YKQ_mRBttWsP"
      },
      "source": [
        "Respuesta"
      ]
    },
    {
      "cell_type": "markdown",
      "metadata": {
        "id": "kAkDPUyRtYyH"
      },
      "source": [
        "## Líneas de Investigación Futuras\n",
        "\n",
        "### 1. Mejoras Algorítmicas\n",
        "- **Programación Dinámica**: Memorizar subproblemas para evitar recálculos repetidos\n",
        "- **Podas más inteligentes**: Cotas matemáticas más precisas basadas en análisis de intervalos\n",
        "- **Paralelización**: Distribuir permutaciones entre múltiples procesos para mayor velocidad\n",
        "\n",
        "### 2. Variaciones del Problema\n",
        "- **Extensión de operadores**: Incluir potencias, raíces, paréntesis\n",
        "- **Números multi-dígito**: Formar números como 12, 34 en lugar de usar dígitos individuales\n",
        "- **Objetivos múltiples**: Buscar expresiones que se aproximen a varios valores simultáneamente\n"
      ]
    },
    {
      "cell_type": "markdown",
      "metadata": {
        "id": "IE0uZmo-tZu-"
      },
      "source": [
        "Respuesta"
      ]
    }
  ],
  "metadata": {
    "colab": {
      "provenance": []
    },
    "kernelspec": {
      "display_name": "base",
      "language": "python",
      "name": "python3"
    },
    "language_info": {
      "codemirror_mode": {
        "name": "ipython",
        "version": 3
      },
      "file_extension": ".py",
      "mimetype": "text/x-python",
      "name": "python",
      "nbconvert_exporter": "python",
      "pygments_lexer": "ipython3",
      "version": "3.12.2"
    }
  },
  "nbformat": 4,
  "nbformat_minor": 0
}
