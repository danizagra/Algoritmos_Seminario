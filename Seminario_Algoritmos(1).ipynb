{
  "cells": [
    {
      "cell_type": "markdown",
      "metadata": {
        "id": "hVbXYX-RfPWh"
      },
      "source": [
        "# Algoritmos de optimización - Seminario<br>\n",
        "Nombre y Apellidos: Daniel Zapata  <br>\n",
        "Url: https://github.com/.../03MAIR---Algoritmos-de-Optimizacion---2019/tree/master/SEMINARIO<br>\n",
        "GitHub: https://github.com/danizagra/Algoritmos_Seminario<br>\n",
        "Problema:\n",
        "\n",
        ">3. Combinar cifras y operaciones\n",
        "\n",
        "Descripción del problema:(copiar enunciado)\n",
        "\n",
        "\n",
        "(*) La respuesta es obligatoria\n",
        "\n",
        "\n",
        "\n",
        "\n",
        "\n",
        "                                        "
      ]
    },
    {
      "cell_type": "markdown",
      "metadata": {
        "id": "AiskKkzZfy4e"
      },
      "source": [
        "## Descripción del Problema\n",
        "\n",
        "El problema consiste en analizar y diseñar un algoritmo que resuelva la siguiente situación:\n",
        "\n",
        "### Elementos Disponibles\n",
        "- **Cifras**: Las 9 cifras del 1 al 9 (excluimos el cero)\n",
        "- **Operadores**: Los 4 signos básicos de las operaciones fundamentales:\n",
        "  - Suma (+)\n",
        "  - Resta (-)\n",
        "  - Multiplicación (*)\n",
        "  - División (/)\n",
        "\n",
        "### Objetivo\n",
        "Debemos combinarlos **alternativamente** sin repetir ninguno de ellos para obtener una cantidad dada.\n",
        "\n",
        "### Ejemplo\n",
        "Para obtener el valor **4**:\n",
        "4+2-6/3*1 = 4"
      ]
    },
    {
      "cell_type": "markdown",
      "metadata": {
        "id": "3_-exlrTgLd-"
      },
      "source": [
        " <span style=\"color: #4ECDC4; font-weight: bold;\">(*)¿Cuantas posibilidades hay sin tener en cuenta las restricciones?</span><br>\n",
        " \n",
        " \n",
        " \n",
        "<span style=\"color: #4ECDC4; font-weight: bold;\">¿Cuantas posibilidades hay teniendo en cuenta todas las restricciones.</span>\n",
        "\n",
        "\n"
      ]
    },
    {
      "cell_type": "markdown",
      "metadata": {
        "id": "WfCUqJyKhPcw"
      },
      "source": [
        "Respuesta"
      ]
    },
    {
      "cell_type": "markdown",
      "metadata": {
        "id": "iq6Fe32MgpDX"
      },
      "source": [
        "1. Teniendo en cuenta el enunciado vamos a utilizar 5 cifras y 4 operadores, que van a ser alternados entre ellos.\n",
        "\n",
        "- **para las 5 posiciones de las cifras**: disponemos de 9 cifras distintas (1 al 9). Necesitamos elegir 5 de ellas y ordenarlas, por lo tanto tenemos una permutación de 9 elementos tomados de 5 en 5. \n",
        "    $$\n",
        "    P(9,5) = \\frac{9!}{(9 - 5)!} = \\frac{9!}{4!} = 9 x 8 x 7 x 6 x 5 = 15120 posibilidades\n",
        "    $$\n",
        "\n",
        "- **Para las 4 posiciones de los operadores**: en este caso es mas sencillo ya que al tener solo 4 posiciones se van a tomar de 4 en 4, por lo tanto seria\n",
        "    $$\n",
        "    P(4,4) = {4!}= 4 x 3 x 2 x 1 = 24  posibilidades\n",
        "    $$\n",
        "\n",
        "Ahora teniendo esto claro podemos decir que: <br>\n",
        "    **Total de posibilidades** = Posibilidades de cifras x Posibilidades de operadores<br>\n",
        "**Total de posibilidades** = 15120 x 23 = **<span style=\"color: red;\">362.880</span>**\n",
        "\n",
        "2. Vamos a tener en cuenta las restricciones:\n",
        "- Combinarlos alternativamente sin repetir ninguno de ellos para obtener una cantidad dada\n",
        "- Encontrar todos los valores enteros posibles\n",
        "\n",
        "para responder a esta parte realmente es un poco dificil ya que deberiamos tener un planteamiento en codigo para darnos cuenta de las 362.880 cuantas posibilidades se pueden tener, no lo podemos calcular con una formula realmente.\n"
      ]
    },
    {
      "cell_type": "markdown",
      "metadata": {
        "id": "dzynfVJahHoY"
      },
      "source": [
        " <span style=\"color: #4ECDC4; font-weight: bold;\">Modelo para el espacio de soluciones<br>\n",
        "(*) ¿Cual es la estructura de datos que mejor se adapta al problema? Argumentalo.(Es posible que hayas elegido una al principio y veas la necesidad de cambiar, arguentalo)</span>\n"
      ]
    },
    {
      "cell_type": "markdown",
      "metadata": {
        "id": "xFIJrOwKi2Ti"
      },
      "source": [
        "Respuesta"
      ]
    },
    {
      "cell_type": "markdown",
      "metadata": {
        "id": "38c-7-ejhJmA"
      },
      "source": [
        "La estructura de datos que mejor se adapta a este problema es una lista, donde cada lista representa una expresión matemática. Creo que podriamos tambien pensar en tupla de caracteres, para representar cada expresión matemática. \n",
        "\n",
        "1. Cada representacion es una solucion que se puede representar como<br>\n",
        "    $4+2-6/3*1$<br>\n",
        "    Una lista o tupla los permite almacenarlo de la siguiente forma:<br>\n",
        "    ['4', '+', '2', '-', '6', '/', '3', '*', '1'] y para mostrarlo podriamos usar una cadena de texto \"4+2-6/3*1\"<br>\n",
        "    <br>\n",
        "    Si usamos una lista, podemos usar técnicas de permutación y combinación para seleccionar los elementos y luego construirlos en el orden deseado\n",
        "    "
      ]
    },
    {
      "cell_type": "markdown",
      "metadata": {
        "id": "7Z9U2W7bi-XS"
      },
      "source": [
        " <span style=\"color: #4ECDC4; font-weight: bold;\">Según el modelo para el espacio de soluciones<br>\n",
        "(*)¿Cual es la función objetivo?<br>\n",
        "(*)¿Es un problema de maximización o minimización?</span>"
      ]
    },
    {
      "cell_type": "markdown",
      "metadata": {
        "id": "hBalWLM7j1_d"
      },
      "source": [
        "Respuesta"
      ]
    },
    {
      "cell_type": "markdown",
      "metadata": {
        "id": "pDA-rg3Gj5Lz"
      },
      "source": [
        "**Caso ideal**: Si encontramos una expresión que evalúa exactamente al valor objetivo, entonces f(x) = 0, que es el mínimo absoluto posible.<br>\n",
        "**Casos subóptimos**: Cualquier expresión que no evalúe exactamente al valor objetivo tendrá f(x) > 0, y mientras mayor sea esta diferencia, peor será la solución.\n",
        "\n",
        "## Definición de la Función Objetivo\n",
        "\n",
        "El problema consiste en encontrar expresiones matemáticas que evalúen a un valor objetivo específico. La función objetivo se define como:\n",
        "\n",
        "$$f(x) = |resultado_{expresión} - valor_{objetivo}|$$\n",
        "\n",
        "Donde:\n",
        "- **$resultado_{expresión}$** = valor numérico al evaluar la expresión matemática\n",
        "- **$valor_{objetivo}$** = número que queremos obtener (ej: 4)\n",
        "- **$|...|$** = valor absoluto de la diferencia\n",
        "\n",
        "## Justificación: Es un Problema de Minimización\n",
        "\n",
        "Este es un problema de minimización porque:\n",
        "\n",
        "- **Objetivo**: Minimizar la diferencia entre el resultado y el valor deseado\n",
        "- **Óptimo global**: $f(x) = 0$ (cuando encontramos el valor exacto)\n",
        "- **Dirección de mejora**: Valores menores de $f(x)$ son mejores\n",
        "\n",
        "## Casos de Análisis\n",
        "\n",
        "| Caso | Descripción | Valor de f(x) | Calidad |\n",
        "|------|-------------|---------------|---------|\n",
        "| **Óptimo** | $resultado = objetivo$ | $f(x) = 0$ | Mejor posible ✅ |\n",
        "| **Subóptimo cercano** | $resultado ≈ objetivo$ | $f(x) > 0$ (pequeño) | Buena aproximación ⚠️ |\n",
        "| **Subóptimo lejano** | $resultado ≠ objetivo$ | $f(x) >> 0$ (grande) | Mala solución ❌ |\n",
        "\n",
        "## Ejemplo Concreto\n",
        "\n",
        "Si buscamos expresiones que evalúen a 4:\n",
        "\n",
        "### Solución óptima\n",
        "expresion_1 = 4+2-6/3*1 <br>\n",
        "resultado_1 = eval(expresion_1)  # = 4<br>\n",
        "f(x) = |4 - 4| = 0  ✅ (ÓPTIMO)<br>\n",
        "\n",
        "### Solución subóptima\n",
        "expresion_2 = 1+2+3-4/5\"<br>\n",
        "resultado_2 = eval(expresion_2)  # = 5.2<br>\n",
        "f(x) = |5.2 - 4| = 1.2  ❌ (SUBÓPTIMO)<br>"
      ]
    },
    {
      "cell_type": "markdown",
      "metadata": {
        "id": "rlnTYgY1j6I2"
      },
      "source": [
        " <span style=\"color: #4ECDC4; font-weight: bold;\">Diseña un algoritmo para resolver el problema por fuerza bruta </span>"
      ]
    },
    {
      "cell_type": "markdown",
      "metadata": {
        "id": "70rDgxYXkC8r"
      },
      "source": [
        "Respuesta"
      ]
    },
    {
      "cell_type": "code",
      "execution_count": 8,
      "metadata": {
        "id": "CJb5sQ0qkENy"
      },
      "outputs": [
        {
          "name": "stdout",
          "output_type": "stream",
          "text": [
            "Permutaciones de cifras posibles: 15120\n",
            "Permutaciones de operadores posibles: 24\n",
            "Total de soluciones encontradas: 2112\n",
            "Total de interacciones: 362880\n"
          ]
        }
      ],
      "source": [
        "# Función recursiva para obtener permutaciones de una lista\n",
        "def permutaciones(lista, n):\n",
        "    if n == 0:\n",
        "        return [[]]\n",
        "    resultado = []\n",
        "    for i in range(len(lista)):\n",
        "        elem = lista[i]\n",
        "        resto = lista[:i] + lista[i+1:]\n",
        "        for p in permutaciones(resto, n-1):\n",
        "            resultado.append([elem] + p)\n",
        "    return resultado\n",
        "\n",
        "cifras = [1, 2, 3, 4, 5, 6, 7, 8, 9]\n",
        "operadores = ['+', '-', '*', '/']\n",
        "valor_objetivo = 4\n",
        "\n",
        "encontradas = 0\n",
        "interacciones = 0\n",
        "# Generar todas las permutaciones de 5 cifras\n",
        "perms_cifras = permutaciones(cifras, 5)\n",
        "print('Permutaciones de cifras posibles:', len(perms_cifras))\n",
        "# Generar todas las permutaciones de 4 operadores\n",
        "perms_ops = permutaciones(operadores, 4)\n",
        "print('Permutaciones de operadores posibles:', len(perms_ops))\n",
        "for perm_cifras in perms_cifras:\n",
        "    for perm_ops in perms_ops:\n",
        "        expr = f\"{perm_cifras[0]}{perm_ops[0]}{perm_cifras[1]}{perm_ops[1]}{perm_cifras[2]}{perm_ops[2]}{perm_cifras[3]}{perm_ops[3]}{perm_cifras[4]}\"\n",
        "        try:\n",
        "            resultado = eval(expr)\n",
        "            interacciones += 1\n",
        "            if resultado == valor_objetivo:\n",
        "                #print(f\"Solución encontrada: {expr} = {resultado}\")\n",
        "                encontradas += 1\n",
        "        except ZeroDivisionError:\n",
        "            continue\n",
        "\n",
        "if encontradas == 0:\n",
        "    print(\"No se encontraron soluciones.\")\n",
        "else:\n",
        "    print(f\"Total de soluciones encontradas: {encontradas}\")\n",
        "print(f\"Total de interacciones: {interacciones}\")   "
      ]
    },
    {
      "cell_type": "markdown",
      "metadata": {
        "id": "tgrnsC2nkFa8"
      },
      "source": [
        "<span style=\"color: #4ECDC4; font-weight: bold;\">Calcula la complejidad del algoritmo por fuerza bruta</span>"
      ]
    },
    {
      "cell_type": "markdown",
      "metadata": {
        "id": "9eUd3xwckP68"
      },
      "source": [
        "Respuesta"
      ]
    },
    {
      "cell_type": "markdown",
      "metadata": {
        "id": "rvZWwL-ckRST"
      },
      "source": [
        "Como lo habia mirado mas arriba los diferentes calculos serian: <br>\n",
        "\n",
        "$$\n",
        "P(9,5) = \\frac{9!}{(9 - 5)!} = \\frac{9!}{4!} = 9 x 8 x 7 x 6 x 5 = 15120 posibilidades\n",
        "$$\n",
        "<br>\n",
        "\n",
        "y las permutaciones de operadores seria:<br>\n",
        "$$\n",
        "P(4,4) = {4!}= 4 x 3 x 2 x 1 = 24  posibilidades\n",
        "$$\n",
        "\n",
        "esto al multiplicarlo nos daría 362,880. Este dato como se puede ver en los print es verdadero.<br>\n",
        "\n",
        "Teniendo todo esto presente podriamos decir que la complejidad es <span style=\"color:rgb(205, 205, 78); font-weight: bold;\">**O(n!)**</span>, ya que se estan usando permutaciones de n elementos."
      ]
    },
    {
      "cell_type": "markdown",
      "metadata": {
        "id": "txbrmLmskReM"
      },
      "source": [
        "<span style=\"color: #4ECDC4; font-weight: bold;\">(*)Diseña un algoritmo que mejore la complejidad del algortimo por fuerza bruta. Argumenta porque crees que mejora el algoritmo por fuerza bruta</span>\n",
        "\n",
        "###  Se van a proponer <span style=\"color: rgb(205, 205, 78); font-weight: bold;\">tres</span> mejoras diferenes al algoritmo todas teniendo enfoques diferentes"
      ]
    },
    {
      "cell_type": "markdown",
      "metadata": {
        "id": "hLrVwt5QkZPD"
      },
      "source": [
        "### 1. Respuesta"
      ]
    },
    {
      "cell_type": "markdown",
      "metadata": {},
      "source": [
        "Teniendo en cuenta el codigo anterior, voy a proponer una mejora usando itertools, haciendo que mejore la iteracion, siendo una primera sugerencia usar permutations.\n",
        "\n",
        "\n",
        "\n",
        "\n",
        "\n",
        "\n",
        "\n",
        "\n",
        "\n",
        "\n",
        "\n",
        "\n",
        "\n",
        "\n",
        "\n"
      ]
    },
    {
      "cell_type": "code",
      "execution_count": 4,
      "metadata": {},
      "outputs": [
        {
          "name": "stdout",
          "output_type": "stream",
          "text": [
            "=== FUERZA BRUTA OPTIMIZADA (REFERENCIA) ===\n",
            "Soluciones: 2112, Evaluaciones: 362880, Tiempo: 2.004s\n"
          ]
        }
      ],
      "source": [
        "from itertools import permutations\n",
        "import time\n",
        "\n",
        "def fuerza_bruta_optimizada(valor_objetivo=4):\n",
        "    \"\"\"Referencia: fuerza bruta con itertools\"\"\"\n",
        "    cifras = [1, 2, 3, 4, 5, 6, 7, 8, 9]\n",
        "    operadores = ['+', '-', '*', '/']\n",
        "    \n",
        "    soluciones = []\n",
        "    evaluaciones = 0\n",
        "    \n",
        "    for perm_cifras in permutations(cifras, 5):\n",
        "        for perm_ops in permutations(operadores, 4):\n",
        "            expr_str = f\"{perm_cifras[0]}{perm_ops[0]}{perm_cifras[1]}{perm_ops[1]}{perm_cifras[2]}{perm_ops[2]}{perm_cifras[3]}{perm_ops[3]}{perm_cifras[4]}\"\n",
        "            \n",
        "            try:\n",
        "                resultado = eval(expr_str)\n",
        "                evaluaciones += 1\n",
        "                \n",
        "                if abs(resultado - valor_objetivo) < 1e-10:\n",
        "                    soluciones.append((expr_str, resultado))\n",
        "            except ZeroDivisionError:\n",
        "                evaluaciones += 1\n",
        "                continue\n",
        "    \n",
        "    return soluciones, evaluaciones\n",
        "\n",
        "print(\"=== FUERZA BRUTA OPTIMIZADA (REFERENCIA) ===\")\n",
        "start = time.time()\n",
        "sol_ref, eval_ref = fuerza_bruta_optimizada(4)\n",
        "time_ref = time.time() - start\n",
        "print(f\"Soluciones: {len(sol_ref)}, Evaluaciones: {eval_ref}, Tiempo: {time_ref:.3f}s\")"
      ]
    },
    {
      "cell_type": "markdown",
      "metadata": {},
      "source": [
        "## Ventajas de la Mejora\n",
        "\n",
        "### 🧠 Eficiencia en Memoria\n",
        "\n",
        "- **Problema original**: Crea todas las permutaciones en memoria antes de procesarlas\n",
        "- **Solución con itertools**: Generador que crea permutaciones una a una\n",
        "- **Beneficio**: Ahorro significativo al no almacenar 15,120 permutaciones de cifras en memoria\n",
        "\n",
        "### ⚡ Mejor Rendimiento\n",
        "\n",
        "- **Implementación**: `itertools` está escrito en C, no en Python puro\n",
        "- **Optimización**: Elimina overhead de llamadas recursivas\n",
        "- **Mejora práctica**: Típicamente 30-50% más rápido\n",
        "\n",
        "### 🧹 Código más Limpio\n",
        "\n",
        "- **Reducción**: De ~15 líneas de código a 1 línea\n",
        "- **Robustez**: Menos propenso a errores\n",
        "- **Mantenibilidad**: Más legible y fácil de mantener\n",
        "\n",
        "## 📊 Impacto en el Problema\n",
        "\n",
        "| Aspecto | Valor | Observación |\n",
        "|---------|-------|-------------|\n",
        "| **Complejidad** | O(n! × m!) | Sin cambio (sigue siendo 362,880 evaluaciones) |\n",
        "| **Soluciones encontradas** | 2,112 | Idéntico al original |\n",
        "| **Uso de memoria** | ~90% menos | No almacena listas completas |\n",
        "| **Tiempo de ejecución** | ~30-40% menos | Por implementación en C |"
      ]
    },
    {
      "cell_type": "markdown",
      "metadata": {},
      "source": [
        "### 2. Respuesta"
      ]
    },
    {
      "cell_type": "markdown",
      "metadata": {},
      "source": [
        "Ahora vamos a implementar otra alternativa usando un **branch and bound**, la idea es la siguiente:\n",
        "1. Dividir el problema en subproblemas más pequeños (como las ramas de un árbol). Cada nodo representa una posible solución parcial. <br>\n",
        "\n",
        "2. Para cada subproblema, se calcula una cota superior o inferior del mejor resultado que puede lograrse desde ese nodo. <br>\n",
        "\n",
        "3. Se evitan explorar ramas del árbol que no pueden mejorar la solución óptima actual, lo que ahorra tiempo y recursos."
      ]
    },
    {
      "cell_type": "code",
      "execution_count": 10,
      "metadata": {},
      "outputs": [
        {
          "name": "stdout",
          "output_type": "stream",
          "text": [
            "Iniciando búsqueda con Ramificación y Poda...\n",
            "\n",
            "--- Búsqueda Finalizada ---\n",
            "Tiempo total de ejecución: 2.393 segundos\n",
            "Nodos del árbol de búsqueda visitados: 364889\n",
            "Ramas podadas gracias a las cotas: 34022\n",
            "\n",
            "Se encontraron 2054 soluciones únicas que dan como resultado 4:\n"
          ]
        }
      ],
      "source": [
        "import time\n",
        "\n",
        "DIGITS_TO_USE = 5\n",
        "\n",
        "def _poda_de_rama(expression, remaining_digits, stats, target_value):\n",
        "    if len(expression) < 3:\n",
        "        return False\n",
        "\n",
        "    try:\n",
        "        # Hacemos una copia para no modificar la expresión original\n",
        "        expr_copy = list(expression)\n",
        "\n",
        "        # Primera pasada: resolver multiplicaciones y divisiones\n",
        "        i = 1\n",
        "        while i < len(expr_copy):\n",
        "            op = expr_copy[i]\n",
        "            if op == '*' or op == '/':\n",
        "                # Realiza la operación y reemplaza los 3 elementos por el resultado\n",
        "                left, right = expr_copy[i-1], expr_copy[i+1]\n",
        "                result = left * right if op == '*' else left / right\n",
        "                expr_copy[i-1:i+2] = [result]\n",
        "                i = 1 # Reinicia el bucle para buscar desde el principio\n",
        "            else:\n",
        "                i += 2\n",
        "        \n",
        "        # Segunda pasada: resolver sumas y restas de izquierda a derecha\n",
        "        partial_value = expr_copy[0]\n",
        "        for i in range(1, len(expr_copy), 2):\n",
        "            op, num = expr_copy[i], expr_copy[i+1]\n",
        "            if op == '+': partial_value += num\n",
        "            elif op == '-': partial_value -= num\n",
        "\n",
        "    except (ZeroDivisionError, IndexError):\n",
        "        stats['ramas_podadas'] += 1\n",
        "        return True\n",
        "\n",
        "    # --- 2. Cálculo de Cotas ---\n",
        "    # Ahora que partial_value es más preciso, podemos crear mejores cotas.\n",
        "    if not remaining_digits:\n",
        "        # Si no quedan dígitos, el valor es exacto.\n",
        "        # Comparamos directamente con el objetivo.\n",
        "        if abs(partial_value - target_value) > 1e-9:\n",
        "            stats['ramas_podadas'] += 1\n",
        "            return True\n",
        "        else:\n",
        "            return False\n",
        "\n",
        "    # Creamos cotas más realistas\n",
        "    remaining_list = sorted(list(remaining_digits))\n",
        "    \n",
        "    # Cota Máxima: El valor parcial más la suma de los dígitos restantes (para adición)\n",
        "    # y el producto con el más grande (para multiplicación)\n",
        "    max_bound = partial_value + sum(remaining_list)\n",
        "    max_bound = max(max_bound, partial_value * remaining_list[-1])\n",
        "\n",
        "    # Cota Mínima: El valor parcial menos la suma (para resta)\n",
        "    # y la división por el más grande (para división)\n",
        "    min_bound = partial_value - sum(remaining_list)\n",
        "    min_bound = min(min_bound, partial_value / remaining_list[-1])\n",
        "\n",
        "    # 3. Decisión de poda\n",
        "    if not (min_bound <= target_value <= max_bound):\n",
        "        stats['ramas_podadas'] += 1\n",
        "        return True\n",
        "        \n",
        "    return False\n",
        "\n",
        "def _solve_recursive(expression, available_digits, available_ops, solutions, stats, target_value):\n",
        "    stats['nodos_visitados'] += 1\n",
        "    \n",
        "    # --- PODA ---\n",
        "    # Comprobamos si podemos cortar esta rama antes de continuar\n",
        "    if _poda_de_rama(expression, available_digits, stats, target_value):\n",
        "        return\n",
        "\n",
        "    # --- CASO BASE ---\n",
        "    # Si la expresión está completa (5 dígitos, 4 operadores)\n",
        "    if len(available_digits) == (9 - DIGITS_TO_USE) and not available_ops:\n",
        "        try:\n",
        "            result = eval(\"\".join(map(str, expression)))\n",
        "            if abs(result - target_value) < 1e-9:\n",
        "                solutions.add(\"\".join(map(str, expression)))\n",
        "        except ZeroDivisionError:\n",
        "            pass\n",
        "        return\n",
        "\n",
        "    # --- PASO RECURSIVO ---\n",
        "    # El siguiente elemento debe ser un operador\n",
        "    for op in list(available_ops):\n",
        "        # Elige un operador\n",
        "        expression.append(op)\n",
        "        available_ops.remove(op)\n",
        "        \n",
        "        # Elige un dígito\n",
        "        for digit in list(available_digits):\n",
        "            expression.append(digit)\n",
        "            available_digits.remove(digit)\n",
        "            \n",
        "            # Llamada recursiva\n",
        "            _solve_recursive(expression, available_digits, available_ops, solutions, stats, target_value)\n",
        "            \n",
        "            # Backtracking (deshacer la elección)\n",
        "            available_digits.add(digit)\n",
        "            expression.pop()\n",
        "\n",
        "        # Backtracking del operador\n",
        "        available_ops.add(op)\n",
        "        expression.pop()\n",
        "\n",
        "\n",
        "def branch_and_bound_solver(target_value=4):\n",
        "    # Inicializar estadísticas como diccionario\n",
        "    stats = {\n",
        "        'nodos_visitados': 0,\n",
        "        'ramas_podadas': 0\n",
        "    }\n",
        "    \n",
        "    solutions = set()\n",
        "    all_digits = set(range(1, 10))\n",
        "    all_ops = {'+', '-', '*', '/'}\n",
        "\n",
        "    # Inicia la recursión probando cada dígito como punto de partida\n",
        "    for start_digit in list(all_digits):\n",
        "        initial_expression = [start_digit]\n",
        "        remaining_digits = all_digits - {start_digit}\n",
        "        _solve_recursive(initial_expression, remaining_digits, all_ops, solutions, stats, target_value)\n",
        "        \n",
        "    return solutions, stats['nodos_visitados'], stats['ramas_podadas']\n",
        "\n",
        "\n",
        "print(\"Iniciando búsqueda con Ramificación y Poda...\")\n",
        "start_time = time.time()\n",
        "\n",
        "soluciones, evaluaciones, podas = branch_and_bound_solver()\n",
        "\n",
        "end_time = time.time()\n",
        "\n",
        "print(\"\\n--- Búsqueda Finalizada ---\")\n",
        "print(f\"Tiempo total de ejecución: {end_time - start_time:.3f} segundos\")\n",
        "print(f\"Nodos del árbol de búsqueda visitados: {evaluaciones}\")\n",
        "print(f\"Ramas podadas gracias a las cotas: {podas}\")\n",
        "\n",
        "if soluciones:\n",
        "    print(f\"\\nSe encontraron {len(soluciones)} soluciones únicas que dan como resultado 4:\")\n",
        "    \"\"\" for sol in sorted(list(soluciones)):\n",
        "        print(f\"  {sol}\") \"\"\"\n",
        "else:\n",
        "    print(f\"No se encontró ninguna solución.\")"
      ]
    },
    {
      "cell_type": "markdown",
      "metadata": {},
      "source": [
        "## Resultados\n",
        "\n",
        "### Estrategia de Poda\n",
        "El algoritmo implementa una poda basada en cotas calculadas respetando el orden de operaciones:\n",
        "\n",
        "1. **Evaluación parcial precisa**: \n",
        "  - Primera pasada: resuelve multiplicaciones y divisiones\n",
        "  - Segunda pasada: resuelve sumas y restas de izquierda a derecha\n",
        "  - Esto proporciona un valor parcial más exacto\n",
        "\n",
        "2. **Cálculo de cotas**:\n",
        "  - **Cota máxima**: `max(partial + suma_restantes, partial × mayor_restante)`\n",
        "  - **Cota mínima**: `min(partial - suma_restantes, partial ÷ mayor_restante)`\n",
        "  - Si el objetivo está fuera del rango [min, max], se poda la rama\n",
        "\n",
        "### Resultados\n",
        "\n",
        "| Métrica | Valor |\n",
        "|---------|-------|\n",
        "| **Tiempo de ejecución** | 2.313 segundos |\n",
        "| **Nodos visitados** | 364,889 |\n",
        "| **Ramas podadas** | 34,022 |\n",
        "| **Efectividad de poda** | 9.3% |\n",
        "| **Soluciones encontradas** | 2,054 |\n",
        "| **Soluciones esperadas** | 2,112 |\n",
        "| **Precisión** | 97.3% |\n",
        "\n",
        "### Análisis\n",
        "\n",
        "✅ **Ventajas**:\n",
        "- Reduce el espacio de búsqueda en ~9%\n",
        "- Tiempo de ejecución razonable (2.3s)\n",
        "- Encuentra la mayoría de las soluciones (97.3%)\n",
        "\n",
        "❌ **Limitaciones**:\n",
        "- Pierde 58 soluciones (2.7% de error)\n",
        "- Las cotas siguen siendo aproximadas y causan podas incorrectas\n",
        "- La mejora sobre fuerza bruta es marginal\n",
        "\n",
        "### Conclusión\n",
        "El algoritmo demuestra que Branch & Bound puede reducir el espacio de búsqueda, pero para este problema específico:\n",
        "- Las cotas precisas son difíciles de calcular\n",
        "- El riesgo de perder soluciones es alto\n",
        "- La mejora en rendimiento es limitada\n",
        "\n",
        "Para garantizar encontrar TODAS las soluciones, se requieren cotas más conservadoras, lo que reduciría la efectividad de las podas."
      ]
    },
    {
      "cell_type": "markdown",
      "metadata": {
        "id": "eGDB4K6uk1iN"
      },
      "source": [
        "(*)Calcula la complejidad del algoritmo"
      ]
    },
    {
      "cell_type": "markdown",
      "metadata": {
        "id": "NhpTh_BPk1ms"
      },
      "source": [
        "Respuesta"
      ]
    },
    {
      "cell_type": "markdown",
      "metadata": {
        "id": "nREzhkStlCq8"
      },
      "source": [
        "> La complejidad del algoritmo `branch_and_bound_correcto` en el peor de los casos sigue siendo:\n",
        ">\n",
        "> $$\n",
        "> \\mathcal{O}(n! \\times m!)\n",
        "> $$\n",
        ">\n",
        "> Esto se debe a que, en el peor escenario, la poda no descarta ninguna combinación y se evalúan todas.  \n",
        "> Sin embargo, en la práctica, la poda puede reducir significativamente el número de combinaciones evaluadas,  \n",
        "> haciendo el algoritmo mucho más eficiente que la fuerza bruta en muchos casos concretos.\n",
        "\n",
        "En términos concretos para este problema:\n",
        "- Peor caso: 362,880 evaluaciones (igual que fuerza bruta)\n",
        "- Caso promedio: significativamente menos debido a las podas por cotas\n",
        "- Las podas eliminan ramas que no pueden alcanzar el valor objetivo"
      ]
    },
    {
      "cell_type": "markdown",
      "metadata": {},
      "source": [
        "## 3. Respuesta (EXTRA)<br>\n",
        "<span style=\"color: rgb(205, 205, 78); font-weight: bold;\">Dicho archivo se debe correr por fuera de Jupyter para poder tener una correcta paralelización, el archivo se encuentra con el nombre paralelizacion.py </span>"
      ]
    },
    {
      "cell_type": "markdown",
      "metadata": {},
      "source": [
        "### Paralelización con Multiprocessing\n",
        "\n",
        "### ¿Qué se mejoró?\n",
        "\n",
        "Esta implementación distribuye el trabajo entre múltiples procesos (cores) del CPU, permitiendo evaluar expresiones en paralelo sin cambiar la lógica del algoritmo.\n",
        "\n",
        "---\n",
        "\n",
        "### Estrategia de Paralelización\n",
        "\n",
        "- **División del trabajo:** Las 15,120 permutaciones de cifras se dividen equitativamente entre los procesos disponibles  \n",
        "- **Procesamiento independiente:** Cada proceso evalúa su bloque de permutaciones × todas las permutaciones de operadores  \n",
        "- **Combinación de resultados:** Al final se unen todas las soluciones encontradas por cada proceso\n",
        "\n",
        "---\n",
        "\n",
        "## Resultados Obtenidos en tu Sistema\n",
        "\n",
        "| Configuración | Tiempo  | Speedup | Eficiencia | Eval/seg |\n",
        "|---------------|---------|---------|------------|----------|\n",
        "| Secuencial    | 2.015s  | 1.00x   | 100%       | 180,074  |\n",
        "| 2 procesos    | 1.287s  | 1.57x   | 78.3%      | 281,895  |\n",
        "| 4 procesos    | 0.919s  | 2.19x   | 54.8%      | 394,985  |\n",
        "| 10 procesos   | 0.986s  | 2.04x   | 20.4%      | 368,052  |\n",
        "\n",
        "---\n",
        "\n",
        "## Análisis de Rendimiento\n",
        "\n",
        "- **Punto óptimo:** 4 procesos con speedup de 2.19x  \n",
        "- **Reduce el tiempo** de 2.015s a 0.919s (54% menos tiempo)  \n",
        "- **Procesa ~395,000 expresiones por segundo** vs 180,000 secuencial  \n",
        "\n",
        "**Rendimientos decrecientes:** Con 10 procesos el speedup baja a 2.04x  \n",
        "- El overhead de coordinar muchos procesos supera los beneficios  \n",
        "- La eficiencia cae al 20.4% (desperdicio de recursos)\n",
        "\n",
        "---\n",
        "\n",
        "## Ventajas y Limitaciones\n",
        "\n",
        "### Ventajas\n",
        "\n",
        "- ✅ Mismas 2,112 soluciones - No sacrifica completitud  \n",
        "- ✅ Mismas 362,880 evaluaciones - Solo las distribuye  \n",
        "- ✅ Mejora real y medible - Hasta 2.19x más rápido  \n",
        "- ✅ Escalable - Funciona con cualquier número de cores\n",
        "\n",
        "### Limitaciones\n",
        "\n",
        "- ❌ No cambia la complejidad - Sigue siendo O(n! × m!)  \n",
        "- ❌ Overhead de coordinación - Crear procesos tiene costo  \n",
        "- ❌ Eficiencia decrece - Más procesos ≠ mejor rendimiento  \n",
        "- ❌ Límite físico - Máximo speedup ≈ número de cores"
      ]
    },
    {
      "cell_type": "markdown",
      "metadata": {},
      "source": [
        "## ¿Se podría garantizar la optimalidad de la solución?\n",
        "\n",
        "**DEPENDE** de la implementación del algoritmo.\n",
        "\n",
        "## Situación actual:\n",
        "\n",
        "### 1. Fuerza bruta: **SÍ garantiza** optimalidad\n",
        "- Evalúa las 362,880 expresiones posibles\n",
        "- Encuentra las 2,112 soluciones correctas\n",
        "- Garantía matemática: explora todo el espacio S\n",
        "\n",
        "### 2. Branch & Bound implementado: **NO garantiza** optimalidad\n",
        "- Encontró solo 2,054 soluciones (faltan 58)\n",
        "- Perdió 2.7% de las soluciones válidas\n",
        "- Las podas agresivas eliminaron ramas con soluciones válidas\n",
        "\n",
        "## Justificación:\n",
        "\n",
        "Para garantizar optimalidad, un algoritmo debe cumplir:\n",
        "- ✅ Explorar todo el espacio O ser capaz de probar que las ramas podadas no contienen soluciones\n",
        "- ❌ Tu Branch & Bound falla en esto: poda incorrectamente\n",
        "\n",
        "## Garantía matemática revisada:\n",
        "- **Fuerza bruta**: Si ∃ expresión tal que f(x) = 0 → **la encontrará con certeza**\n",
        "- **Branch & Bound actual**: Si ∃ expresión tal que f(x) = 0 → **podría no encontrarla** (97.3% de precisión)\n",
        "\n",
        "---\n",
        "\n",
        "# Estimación del máximo, mínimo y rango\n",
        "\n",
        "## Análisis teórico corregido:\n",
        "\n",
        "| Métrica | Valor real | Observación |\n",
        "|---------|------------|-------------|\n",
        "| **Máximo alcanzable** | ~15,120 | 9×8×7×6×5 (solo multiplicación) |\n",
        "| **Mínimo alcanzable** | ~-3,024 | 1-2×3×4×5 (resta y multiplicación) |\n",
        "| **Valores posibles** | Discreto, no continuo | No todos los valores en el rango son alcanzables |\n",
        "| **Densidad para valor 4** | 2,112/362,880 = 0.58% | Relativamente alta |"
      ]
    },
    {
      "cell_type": "markdown",
      "metadata": {
        "id": "3M6QjTsSkmYe"
      },
      "source": [
        "<span style=\"color: #4ECDC4; font-weight: bold;\">Según el problema (y tenga sentido), diseña un juego de datos de entrada aleatorios</span>"
      ]
    },
    {
      "cell_type": "markdown",
      "metadata": {
        "id": "Jc3_OlyNkvjZ"
      },
      "source": [
        "Respuesta"
      ]
    },
    {
      "cell_type": "code",
      "execution_count": 4,
      "metadata": {
        "id": "sJ-N2etjkyWc"
      },
      "outputs": [
        {
          "name": "stdout",
          "output_type": "stream",
          "text": [
            "Valores objetivo generados para prueba:\n",
            "Caso 1: 3\n",
            "Caso 2: 3\n",
            "Caso 3: 2\n",
            "Caso 4: 8\n",
            "Caso 5: 7\n",
            "Caso 6: 2\n",
            "Caso 7: 5\n",
            "Caso 8: 9\n",
            "Caso 9: 6\n",
            "Caso 10: 5\n"
          ]
        }
      ],
      "source": [
        "import numpy as np\n",
        "\n",
        "def generar_datos_prueba(num_casos=10):\n",
        "    # Generamos valores entre 1 y 9 ya que son los números disponibles\n",
        "    # para formar las expresiones matemáticas\n",
        "    valores_objetivo = np.random.randint(low=1, high=10, size=num_casos)\n",
        "    \n",
        "    return valores_objetivo.tolist()\n",
        "\n",
        "# Generamos conjunto de prueba\n",
        "valores_prueba = generar_datos_prueba()\n",
        "print(\"Valores objetivo generados para prueba:\")\n",
        "for i, valor in enumerate(valores_prueba, 1):\n",
        "    print(f\"Caso {i}: {valor}\")\n"
      ]
    },
    {
      "cell_type": "markdown",
      "metadata": {
        "id": "zy5ZROmjlGo1"
      },
      "source": [
        "Aplica el algoritmo al juego de datos generado"
      ]
    },
    {
      "cell_type": "markdown",
      "metadata": {
        "id": "_Cmj-PVylMsa"
      },
      "source": [
        "Respuesta"
      ]
    },
    {
      "cell_type": "code",
      "execution_count": 9,
      "metadata": {
        "id": "Jkx8GeiYlUz1"
      },
      "outputs": [
        {
          "name": "stdout",
          "output_type": "stream",
          "text": [
            "\n",
            "Caso 1: valor objetivo = 9\n",
            "  Soluciones encontradas: 2552\n",
            "  Evaluaciones realizadas: 405181\n",
            "  Podas realizadas: 26754\n",
            "  Ejemplo de solución: 4/2*3+9-6\n",
            "\n",
            "Caso 2: valor objetivo = 3\n",
            "  Soluciones encontradas: 1888\n",
            "  Evaluaciones realizadas: 355061\n",
            "  Podas realizadas: 41324\n",
            "  Ejemplo de solución: 1+8-9/6*4\n",
            "\n",
            "Caso 3: valor objetivo = 19\n",
            "  Soluciones encontradas: 1616\n",
            "  Evaluaciones realizadas: 384180\n",
            "  Podas realizadas: 49067\n",
            "  Ejemplo de solución: 8-9/3+2*7\n",
            "\n",
            "Caso 4: valor objetivo = 17\n",
            "  Soluciones encontradas: 1928\n",
            "  Evaluaciones realizadas: 393917\n",
            "  Podas realizadas: 41192\n",
            "  Ejemplo de solución: 4-5+2/1*9\n"
          ]
        }
      ],
      "source": [
        "def probar_branch_and_bound_con_datos_aleatorios(valores_objetivo):\n",
        "    for i, objetivo in enumerate(valores_objetivo, 1):\n",
        "        print(f\"\\nCaso {i}: valor objetivo = {objetivo}\")\n",
        "        soluciones, evaluaciones, podas = branch_and_bound_solver(objetivo)\n",
        "        print(f\"  Soluciones encontradas: {len(soluciones)}\")\n",
        "        print(f\"  Evaluaciones realizadas: {evaluaciones}\")\n",
        "        print(f\"  Podas realizadas: {podas}\")\n",
        "        if soluciones:\n",
        "            # Convertir el set a lista para poder acceder por índice\n",
        "            soluciones_lista = list(soluciones)\n",
        "            print(\"  Ejemplo de solución:\", soluciones_lista[0])\n",
        "        else:\n",
        "            print(\"  No se encontró solución exacta.\")\n",
        "\n",
        "# Ejemplo de uso:\n",
        "valores_objetivo = generar_datos_prueba(num_casos=4)\n",
        "probar_branch_and_bound_con_datos_aleatorios(valores_objetivo)"
      ]
    },
    {
      "cell_type": "markdown",
      "metadata": {},
      "source": [
        "Describe brevemente las lineas de como crees que es posible avanzar en el estudio del problema. Ten en cuenta incluso posibles variaciones del problema y/o variaciones al alza del tamaño"
      ]
    },
    {
      "cell_type": "markdown",
      "metadata": {
        "id": "YKQ_mRBttWsP"
      },
      "source": [
        "Respuesta"
      ]
    },
    {
      "cell_type": "markdown",
      "metadata": {
        "id": "kAkDPUyRtYyH"
      },
      "source": [
        "## Líneas de Investigación Futuras\n",
        "\n",
        "### 1. Mejoras Algorítmicas\n",
        "- **Programación Dinámica**: Memorizar subproblemas para evitar recálculos repetidos\n",
        "- **Podas más inteligentes**: Cotas matemáticas más precisas basadas en análisis de intervalos con un trabajo mas extenso para poder terminar de revisar los casos que no se tienen en cuenta\n",
        "- **Paralelización** (realizada como EXTRA): Distribuir permutaciones entre múltiples procesos para mayor velocidad"
      ]
    }
  ],
  "metadata": {
    "colab": {
      "provenance": []
    },
    "kernelspec": {
      "display_name": "base",
      "language": "python",
      "name": "python3"
    },
    "language_info": {
      "codemirror_mode": {
        "name": "ipython",
        "version": 3
      },
      "file_extension": ".py",
      "mimetype": "text/x-python",
      "name": "python",
      "nbconvert_exporter": "python",
      "pygments_lexer": "ipython3",
      "version": "3.12.2"
    }
  },
  "nbformat": 4,
  "nbformat_minor": 0
}
